{
 "cells": [
  {
   "cell_type": "code",
   "execution_count": 1,
   "metadata": {},
   "outputs": [
    {
     "name": "stdout",
     "output_type": "stream",
     "text": [
      "3\n"
     ]
    }
   ],
   "source": [
    "def outer():\n",
    "    x = 3\n",
    "    def inner():\n",
    "        print(x)\n",
    "    inner()\n",
    "outer()"
   ]
  },
  {
   "cell_type": "markdown",
   "metadata": {},
   "source": [
    "Return local function"
   ]
  },
  {
   "cell_type": "code",
   "execution_count": 2,
   "metadata": {},
   "outputs": [
    {
     "data": {
      "text/plain": [
       "<function __main__.outer.<locals>.inner()>"
      ]
     },
     "execution_count": 2,
     "metadata": {},
     "output_type": "execute_result"
    }
   ],
   "source": [
    "def outer():\n",
    "    x = 3\n",
    "    def inner():\n",
    "        print(x)\n",
    "    return inner\n",
    "outer()"
   ]
  },
  {
   "cell_type": "code",
   "execution_count": 4,
   "metadata": {},
   "outputs": [
    {
     "name": "stdout",
     "output_type": "stream",
     "text": [
      "3\n"
     ]
    }
   ],
   "source": [
    "inner = outer()\n",
    "inner()"
   ]
  },
  {
   "cell_type": "markdown",
   "metadata": {},
   "source": [
    "### Name binding"
   ]
  },
  {
   "cell_type": "code",
   "execution_count": 10,
   "metadata": {},
   "outputs": [
    {
     "name": "stdout",
     "output_type": "stream",
     "text": [
      "inner scope outer\n",
      "outer scope outer\n",
      "global scope global\n"
     ]
    }
   ],
   "source": [
    "x = 'global'\n",
    "def outer():\n",
    "    x = 'outer'\n",
    "    def inner():\n",
    "        print('inner scope' , x)\n",
    "    inner()\n",
    "    print('outer scope' , x)\n",
    "outer()\n",
    "print('global scope' , x)"
   ]
  },
  {
   "cell_type": "markdown",
   "metadata": {},
   "source": [
    "Assignment creates a new local variable"
   ]
  },
  {
   "cell_type": "code",
   "execution_count": 9,
   "metadata": {},
   "outputs": [
    {
     "name": "stdout",
     "output_type": "stream",
     "text": [
      "inner scope inner\n",
      "outer scope outer\n",
      "global scope global\n"
     ]
    }
   ],
   "source": [
    "x = 'global'\n",
    "def outer():\n",
    "    x = 'outer'\n",
    "    def inner():\n",
    "        x = 'inner'\n",
    "        print('inner scope' , x)\n",
    "    inner()\n",
    "    print('outer scope' , x)\n",
    "outer()\n",
    "print('global scope' , x)"
   ]
  },
  {
   "cell_type": "markdown",
   "metadata": {},
   "source": [
    "Explictly mention scope"
   ]
  },
  {
   "cell_type": "code",
   "execution_count": 12,
   "metadata": {},
   "outputs": [
    {
     "name": "stdout",
     "output_type": "stream",
     "text": [
      "inner scope inner\n",
      "outer scope outer\n",
      "global scope inner\n"
     ]
    }
   ],
   "source": [
    "x = 'global'\n",
    "def outer():\n",
    "    x = 'outer'\n",
    "    def inner():\n",
    "        global x\n",
    "        x = 'inner'\n",
    "        print('inner scope' , x)\n",
    "    inner()\n",
    "    print('outer scope' , x)\n",
    "outer()\n",
    "print('global scope' , x)"
   ]
  },
  {
   "cell_type": "code",
   "execution_count": 13,
   "metadata": {},
   "outputs": [
    {
     "name": "stdout",
     "output_type": "stream",
     "text": [
      "inner scope inner\n",
      "outer scope inner\n",
      "global scope global\n"
     ]
    }
   ],
   "source": [
    "x = 'global'\n",
    "def outer():\n",
    "    x = 'outer'\n",
    "    def inner():\n",
    "        nonlocal x\n",
    "        x = 'inner'\n",
    "        print('inner scope' , x)\n",
    "    inner()\n",
    "    print('outer scope' , x)\n",
    "outer()\n",
    "print('global scope' , x)"
   ]
  },
  {
   "cell_type": "markdown",
   "metadata": {},
   "source": [
    "### nonlocal variables are stored in memory as reference"
   ]
  },
  {
   "cell_type": "code",
   "execution_count": 16,
   "metadata": {},
   "outputs": [],
   "source": [
    "import time\n",
    "def timer():\n",
    "    lastcalled = None\n",
    "    def elapsed():\n",
    "        #lastcalled will be stored between function calls\n",
    "        nonlocal lastcalled\n",
    "        now = time.time()\n",
    "        if lastcalled is None:\n",
    "            lastcalled = now\n",
    "        elapsed = now - lastcalled\n",
    "        lastcalled = now\n",
    "        print(elapsed)\n",
    "    return elapsed"
   ]
  },
  {
   "cell_type": "code",
   "execution_count": 17,
   "metadata": {},
   "outputs": [],
   "source": [
    "t = timer()"
   ]
  },
  {
   "cell_type": "code",
   "execution_count": 18,
   "metadata": {},
   "outputs": [
    {
     "name": "stdout",
     "output_type": "stream",
     "text": [
      "0.0\n"
     ]
    }
   ],
   "source": [
    "t()"
   ]
  },
  {
   "cell_type": "code",
   "execution_count": 19,
   "metadata": {},
   "outputs": [
    {
     "name": "stdout",
     "output_type": "stream",
     "text": [
      "3.444668769836426\n"
     ]
    }
   ],
   "source": [
    "t()"
   ]
  },
  {
   "cell_type": "code",
   "execution_count": 20,
   "metadata": {},
   "outputs": [
    {
     "name": "stdout",
     "output_type": "stream",
     "text": [
      "6.375628232955933\n"
     ]
    }
   ],
   "source": [
    "t()"
   ]
  },
  {
   "cell_type": "code",
   "execution_count": null,
   "metadata": {},
   "outputs": [],
   "source": []
  }
 ],
 "metadata": {
  "kernelspec": {
   "display_name": "Python 3",
   "language": "python",
   "name": "python3"
  },
  "language_info": {
   "codemirror_mode": {
    "name": "ipython",
    "version": 3
   },
   "file_extension": ".py",
   "mimetype": "text/x-python",
   "name": "python",
   "nbconvert_exporter": "python",
   "pygments_lexer": "ipython3",
   "version": "3.7.4"
  }
 },
 "nbformat": 4,
 "nbformat_minor": 2
}
