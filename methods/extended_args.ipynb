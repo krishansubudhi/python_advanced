{
 "cells": [
  {
   "cell_type": "markdown",
   "metadata": {},
   "source": [
    "# Extended Args"
   ]
  },
  {
   "cell_type": "code",
   "execution_count": 3,
   "metadata": {},
   "outputs": [
    {
     "name": "stdout",
     "output_type": "stream",
     "text": [
      "arg is =  (1, 2, 3, 4, 5, 6) <class 'tuple'>\n",
      "1\n",
      "2\n",
      "3\n",
      "4\n",
      "5\n",
      "6\n"
     ]
    }
   ],
   "source": [
    "def fun(*args):\n",
    "    print('arg is = ',args, type(args))\n",
    "    for arg in args:\n",
    "        print (arg)\n",
    "fun(1,2,3,4,5,6)"
   ]
  },
  {
   "cell_type": "markdown",
   "metadata": {},
   "source": [
    "Even though args in a tuple, It expects the function to be called in an expanded form.\n",
    "\n",
    "If passed a tuple, it will recognize it as a single argument"
   ]
  },
  {
   "cell_type": "code",
   "execution_count": 4,
   "metadata": {},
   "outputs": [
    {
     "name": "stdout",
     "output_type": "stream",
     "text": [
      "arg is =  ((1, 2, 3, 4, 5, 6),) <class 'tuple'>\n",
      "(1, 2, 3, 4, 5, 6)\n"
     ]
    }
   ],
   "source": [
    "args = (1,2,3,4,5,6)\n",
    "fun(args)"
   ]
  },
  {
   "cell_type": "markdown",
   "metadata": {},
   "source": [
    "### Pass an iterable as function argument"
   ]
  },
  {
   "cell_type": "code",
   "execution_count": 7,
   "metadata": {},
   "outputs": [
    {
     "name": "stdout",
     "output_type": "stream",
     "text": [
      "passing iterable as it is\n",
      "arg is =  ([1, 2, 3, 4, 5, 6],) <class 'tuple'>\n",
      "[1, 2, 3, 4, 5, 6]\n",
      "expanding iterable and passing\n",
      "arg is =  (1, 2, 3, 4, 5, 6) <class 'tuple'>\n",
      "1\n",
      "2\n",
      "3\n",
      "4\n",
      "5\n",
      "6\n"
     ]
    }
   ],
   "source": [
    "iterable = [1,2,3,4,5,6]\n",
    "\n",
    "print('passing iterable as it is')\n",
    "fun(iterable)\n",
    "\n",
    "# *iterable, expands the iterable \n",
    "print('expanding iterable and passing')\n",
    "fun(*iterable)"
   ]
  },
  {
   "cell_type": "markdown",
   "metadata": {},
   "source": [
    "# Extended keyword args\n",
    "\n",
    "    **kwargs are received as dicts while *args are received as tuples"
   ]
  },
  {
   "cell_type": "code",
   "execution_count": 12,
   "metadata": {},
   "outputs": [
    {
     "name": "stdout",
     "output_type": "stream",
     "text": [
      "kwargs is =  {'a': 1, 'b': 2, 'c': 3} <class 'dict'>\n",
      "('a', 1)\n",
      "('b', 2)\n",
      "('c', 3)\n"
     ]
    }
   ],
   "source": [
    "def fun(**kwargs):\n",
    "    print('kwargs is = ',kwargs, type(kwargs))\n",
    "    for args in kwargs.items():\n",
    "        print(args)\n",
    "fun(a=1,b=2,c=3)"
   ]
  },
  {
   "cell_type": "code",
   "execution_count": 15,
   "metadata": {},
   "outputs": [
    {
     "data": {
      "text/plain": [
       "{'a': 1, 'b': 2, 'c': 3}"
      ]
     },
     "execution_count": 15,
     "metadata": {},
     "output_type": "execute_result"
    }
   ],
   "source": [
    "#dict is a function which accepts kwargs and forms a dictionary\n",
    "d = dict(a=1,b=2,c=3)\n",
    "d"
   ]
  },
  {
   "cell_type": "markdown",
   "metadata": {},
   "source": [
    "### Passing dict as a function argument\n",
    "dicts if preceded by ** get expanded"
   ]
  },
  {
   "cell_type": "code",
   "execution_count": 20,
   "metadata": {},
   "outputs": [
    {
     "name": "stdout",
     "output_type": "stream",
     "text": [
      "kwargs is =  {'a': 1, 'b': 2, 'c': 3} <class 'dict'>\n",
      "('a', 1)\n",
      "('b', 2)\n",
      "('c', 3)\n"
     ]
    }
   ],
   "source": [
    "fun(**d)"
   ]
  },
  {
   "cell_type": "markdown",
   "metadata": {},
   "source": [
    "# Combining args and kwargs"
   ]
  },
  {
   "cell_type": "code",
   "execution_count": 21,
   "metadata": {},
   "outputs": [],
   "source": [
    "def fun(*args,**kwargs):\n",
    "    print('arg is = ',args, type(args))\n",
    "    print('kwargs is = ',kwargs, type(kwargs))"
   ]
  },
  {
   "cell_type": "code",
   "execution_count": 22,
   "metadata": {},
   "outputs": [
    {
     "name": "stdout",
     "output_type": "stream",
     "text": [
      "arg is =  (1, 2, 3) <class 'tuple'>\n",
      "kwargs is =  {'a': 4, 'b': 5, 'c': 6} <class 'dict'>\n"
     ]
    }
   ],
   "source": [
    "fun(1,2,3,a = 4,b = 5,c = 6)"
   ]
  },
  {
   "cell_type": "code",
   "execution_count": 24,
   "metadata": {},
   "outputs": [
    {
     "name": "stdout",
     "output_type": "stream",
     "text": [
      "Wrong way to call\n",
      "arg is =  ([1, 2, 3, 4, 5, 6], {'a': 1, 'b': 2, 'c': 3}) <class 'tuple'>\n",
      "kwargs is =  {} <class 'dict'>\n",
      "Right way to call\n",
      "arg is =  (1, 2, 3, 4, 5, 6) <class 'tuple'>\n",
      "kwargs is =  {'a': 1, 'b': 2, 'c': 3} <class 'dict'>\n"
     ]
    }
   ],
   "source": [
    "print('Wrong way to call')\n",
    "fun(iterable, d)\n",
    "\n",
    "print('Right way to call')\n",
    "fun(*iterable, **d)"
   ]
  },
  {
   "cell_type": "markdown",
   "metadata": {},
   "source": [
    "### Another example"
   ]
  },
  {
   "cell_type": "code",
   "execution_count": 34,
   "metadata": {},
   "outputs": [
    {
     "name": "stdout",
     "output_type": "stream",
     "text": [
      "arg1 = 1 ,arg2 = 2,arg3 = 3\n"
     ]
    }
   ],
   "source": [
    "def fun(arg1, arg2, arg3):\n",
    "    print('arg1 = {} ,arg2 = {},arg3 = {}'.format(arg1,arg2,arg3))\n",
    "fun (1,2,3)"
   ]
  },
  {
   "cell_type": "code",
   "execution_count": 35,
   "metadata": {},
   "outputs": [
    {
     "name": "stdout",
     "output_type": "stream",
     "text": [
      "arg1 = 1 ,arg2 = 5,arg3 = 6\n"
     ]
    }
   ],
   "source": [
    "fun(1, *iterable[-2:])"
   ]
  },
  {
   "cell_type": "code",
   "execution_count": 36,
   "metadata": {},
   "outputs": [
    {
     "name": "stdout",
     "output_type": "stream",
     "text": [
      "arg1 = 1 ,arg2 = 2,arg3 = 10\n"
     ]
    }
   ],
   "source": [
    "d = dict(arg3 = 10)\n",
    "fun(1,2,**d)"
   ]
  },
  {
   "cell_type": "markdown",
   "metadata": {},
   "source": [
    "### Zip and transpose"
   ]
  },
  {
   "cell_type": "code",
   "execution_count": 5,
   "metadata": {},
   "outputs": [
    {
     "name": "stdout",
     "output_type": "stream",
     "text": [
      "[[1, 2, 3], [10, 20, 30], [100, 200, 300]]\n"
     ]
    }
   ],
   "source": [
    "A=[1,2,3]\n",
    "B=[10,20,30]\n",
    "C=[100,200,300]\n",
    "from pprint import pprint\n",
    "L = [A,B,C]\n",
    "pprint(L)"
   ]
  },
  {
   "cell_type": "code",
   "execution_count": 7,
   "metadata": {},
   "outputs": [
    {
     "name": "stdout",
     "output_type": "stream",
     "text": [
      "[(1, 10, 100), (2, 20, 200), (3, 30, 300)]\n"
     ]
    }
   ],
   "source": [
    "#transpose using Zip\n",
    "LT = list(zip(*L)) #similar to zip(A,B,C)\n",
    "pprint(LT)"
   ]
  },
  {
   "cell_type": "markdown",
   "metadata": {},
   "source": [
    "### Timeit\n",
    "https://docs.python.org/3/library/timeit.html"
   ]
  },
  {
   "cell_type": "code",
   "execution_count": 16,
   "metadata": {},
   "outputs": [
    {
     "name": "stdout",
     "output_type": "stream",
     "text": [
      "hi\n",
      "hi\n",
      "hi\n",
      "hi\n",
      "hi\n",
      "hi\n",
      "hi\n",
      "hi\n",
      "hi\n",
      "hi\n"
     ]
    },
    {
     "data": {
      "text/plain": [
       "0.0009056999999756954"
      ]
     },
     "execution_count": 16,
     "metadata": {},
     "output_type": "execute_result"
    }
   ],
   "source": [
    "from timeit import timeit\n",
    "timeit('print(\"hi\")',number = 10)\n",
    "\n",
    "#timeit(lambda :5+10 , number = 10)"
   ]
  },
  {
   "cell_type": "code",
   "execution_count": null,
   "metadata": {},
   "outputs": [],
   "source": []
  }
 ],
 "metadata": {
  "file_extension": ".py",
  "kernelspec": {
   "display_name": "Python 3",
   "language": "python",
   "name": "python3"
  },
  "language_info": {
   "codemirror_mode": {
    "name": "ipython",
    "version": 3
   },
   "file_extension": ".py",
   "mimetype": "text/x-python",
   "name": "python",
   "nbconvert_exporter": "python",
   "pygments_lexer": "ipython3",
   "version": "3.7.4"
  },
  "mimetype": "text/x-python",
  "name": "python",
  "npconvert_exporter": "python",
  "pygments_lexer": "ipython3",
  "version": 3
 },
 "nbformat": 4,
 "nbformat_minor": 2
}
