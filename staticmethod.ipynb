{
 "cells": [
  {
   "cell_type": "markdown",
   "metadata": {},
   "source": [
    "be careful when assigning static varible. LEGB rule. First local scope will be created"
   ]
  },
  {
   "cell_type": "code",
   "execution_count": 6,
   "metadata": {},
   "outputs": [
    {
     "name": "stdout",
     "output_type": "stream",
     "text": [
      "0\n",
      "1\n",
      "1\n",
      "0\n"
     ]
    }
   ],
   "source": [
    "class Computer:\n",
    "    counter = 0\n",
    "    def __init__(self, weight, os):\n",
    "        self.weight = weight\n",
    "        self.os = os\n",
    "        self.counter += 1\n",
    "print(Computer.counter) #static\n",
    "print(Computer(3, 'windows').counter)\n",
    "print(Computer(2.5, 'mac').counter)\n",
    "print(Computer.counter)"
   ]
  },
  {
   "cell_type": "code",
   "execution_count": 7,
   "metadata": {},
   "outputs": [
    {
     "name": "stdout",
     "output_type": "stream",
     "text": [
      "0\n",
      "1\n",
      "2\n",
      "2\n"
     ]
    }
   ],
   "source": [
    "class Computer:\n",
    "    counter = 0\n",
    "    def __init__(self, weight, os):\n",
    "        self.weight = weight\n",
    "        self.os = os\n",
    "        Computer.counter += 1\n",
    "print(Computer.counter) #static\n",
    "print(Computer(3, 'windows').counter)\n",
    "print(Computer(2.5, 'mac').counter)\n",
    "print(Computer.counter)"
   ]
  },
  {
   "cell_type": "markdown",
   "metadata": {},
   "source": [
    "Static method"
   ]
  },
  {
   "cell_type": "code",
   "execution_count": 14,
   "metadata": {},
   "outputs": [
    {
     "name": "stdout",
     "output_type": "stream",
     "text": [
      "0\n",
      "2\n"
     ]
    }
   ],
   "source": [
    "class Computer:\n",
    "    counter = 0\n",
    "    \n",
    "    #     static methods have no idea about their class or instance.\n",
    "    #     Mostly helper functions which could have otherwise been written in module scope\n",
    "    #     but written in class scope for organization purpose\n",
    "    @staticmethod\n",
    "    def _updatecounter():\n",
    "        Computer.counter += 1\n",
    "        return Computer.counter\n",
    "    \n",
    "    def __init__(self, weight, os):\n",
    "        self.weight = weight\n",
    "        self.os = os\n",
    "        Computer._updatecounter()\n",
    "print(Computer.counter) #static\n",
    "Computer(3, 'windows')\n",
    "Computer(2.5, 'mac')\n",
    "print(Computer.counter)"
   ]
  },
  {
   "cell_type": "markdown",
   "metadata": {},
   "source": [
    "classmethods instead of staticmethods"
   ]
  },
  {
   "cell_type": "code",
   "execution_count": 13,
   "metadata": {},
   "outputs": [
    {
     "name": "stdout",
     "output_type": "stream",
     "text": [
      "0\n",
      "Created an instance of type <class '__main__.Computer'>\n",
      "Created an instance of type <class '__main__.Computer'>\n",
      "2\n"
     ]
    }
   ],
   "source": [
    "class Computer:\n",
    "    counter = 0\n",
    "    \n",
    "    # Calss methods know which class the call has originated from.\n",
    "    @classmethod\n",
    "    def _updatecounter(cls):\n",
    "        print(f'Created an instance of type {cls}')\n",
    "        Computer.counter += 1\n",
    "        return Computer.counter\n",
    "    \n",
    "    def __init__(self, weight, os):\n",
    "        self.weight = weight\n",
    "        self.os = os\n",
    "        Computer._updatecounter()\n",
    "print(Computer.counter) #static\n",
    "Computer(3, 'windows')\n",
    "Computer(2.5, 'mac')\n",
    "print(Computer.counter)"
   ]
  },
  {
   "cell_type": "code",
   "execution_count": 44,
   "metadata": {},
   "outputs": [],
   "source": [
    "class Computer:\n",
    "    counter = 0\n",
    "    MAX_COUNT = 5\n",
    "    \n",
    "    # Calss methods are based suited for factory method\n",
    "    @classmethod\n",
    "    def build_computer(cls,*args,**kwargs):\n",
    "        print(f'creating instance of class {cls}')\n",
    "        if cls.counter < cls.MAX_COUNT:\n",
    "            return cls(*args,**kwargs)\n",
    "        else:\n",
    "            print('Error: Maximum instance limit reached')\n",
    "            return None\n",
    "    \n",
    "    \n",
    "    @staticmethod\n",
    "    def _updatecounter():\n",
    "        Computer.counter += 1\n",
    "        return Computer.counter\n",
    "    \n",
    "    def __init__(self, weight, os):\n",
    "        self.weight = weight\n",
    "        self.os = os\n",
    "        Computer._updatecounter()\n"
   ]
  },
  {
   "cell_type": "code",
   "execution_count": 45,
   "metadata": {},
   "outputs": [
    {
     "name": "stdout",
     "output_type": "stream",
     "text": [
      "0\n",
      "creating instance of class <class '__main__.Computer'>\n",
      "creating instance of class <class '__main__.Computer'>\n",
      "2\n"
     ]
    }
   ],
   "source": [
    "print(Computer.counter) #static\n",
    "Computer.build_computer(3, 'windows')\n",
    "Computer.build_computer(2.5, 'mac')\n",
    "print(Computer.counter)"
   ]
  },
  {
   "cell_type": "code",
   "execution_count": 46,
   "metadata": {},
   "outputs": [
    {
     "name": "stdout",
     "output_type": "stream",
     "text": [
      "creating instance of class <class '__main__.Computer'>\n",
      "3\n"
     ]
    }
   ],
   "source": [
    "\n",
    "Computer.build_computer(3.2, 'windows')\n",
    "#Computer.build_computer(2.4, 'mac')\n",
    "print(Computer.counter)"
   ]
  },
  {
   "cell_type": "code",
   "execution_count": 47,
   "metadata": {},
   "outputs": [],
   "source": [
    "class PC(Computer):\n",
    "    def __init__(self, weight, os= 'windows'):\n",
    "        print(os)\n",
    "        if os is not 'windows':\n",
    "            print('A PC without windows is not possible!')\n",
    "        super().__init__(weight, os)"
   ]
  },
  {
   "cell_type": "code",
   "execution_count": 49,
   "metadata": {},
   "outputs": [
    {
     "name": "stdout",
     "output_type": "stream",
     "text": [
      "creating instance of class <class '__main__.PC'>\n",
      "Error: Maximum instance limit reached\n",
      "creating instance of class <class '__main__.PC'>\n",
      "Error: Maximum instance limit reached\n",
      "creating instance of class <class '__main__.PC'>\n",
      "Error: Maximum instance limit reached\n",
      "5\n"
     ]
    }
   ],
   "source": [
    "PC.build_computer(3.2, 'windows')\n",
    "PC.build_computer(2.4, 'mac')\n",
    "PC.build_computer(2.4, 'windows')\n",
    "print(Computer.counter)"
   ]
  },
  {
   "cell_type": "code",
   "execution_count": null,
   "metadata": {},
   "outputs": [],
   "source": []
  }
 ],
 "metadata": {
  "kernelspec": {
   "display_name": "Python 3",
   "language": "python",
   "name": "python3"
  },
  "language_info": {
   "codemirror_mode": {
    "name": "ipython",
    "version": 3
   },
   "file_extension": ".py",
   "mimetype": "text/x-python",
   "name": "python",
   "nbconvert_exporter": "python",
   "pygments_lexer": "ipython3",
   "version": "3.7.4"
  }
 },
 "nbformat": 4,
 "nbformat_minor": 2
}
